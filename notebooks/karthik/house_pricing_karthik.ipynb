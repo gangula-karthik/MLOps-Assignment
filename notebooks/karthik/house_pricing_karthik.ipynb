{
 "cells": [
  {
   "cell_type": "markdown",
   "id": "5b776ca4-4e0e-40bd-90e0-14026c2a82ad",
   "metadata": {},
   "source": [
    "## Importing Package"
   ]
  },
  {
   "cell_type": "code",
   "execution_count": null,
   "id": "77fb3b20-c930-4fd5-8f43-7775b02d3199",
   "metadata": {},
   "outputs": [],
   "source": [
    "# %pip install missingno"
   ]
  },
  {
   "cell_type": "code",
   "execution_count": null,
   "id": "9e57ed05-6fe0-4255-a3e4-3168457f0154",
   "metadata": {},
   "outputs": [],
   "source": [
    "import pandas as pd\n",
    "import numpy as nyp\n",
    "import matplotlib.pyplot as plt\n",
    "import seaborn as sns\n",
    "from pycaret.datasets import get_data\n",
    "import pandas as pd\n",
    "import missingno as msno\n",
    "import math\n",
    "from pycaret.regression import *"
   ]
  },
  {
   "cell_type": "code",
   "execution_count": null,
   "id": "8a02fd5f-b611-432b-9277-58007901dc96",
   "metadata": {},
   "outputs": [],
   "source": [
    "sns.set_style(\"whitegrid\")\n",
    "custom_palette = [\"#4C72B0\", \"#55A868\", \"#C44E52\", \"#8172B2\", \"#CCB974\", \"#64B5CD\"]\n",
    "sns.set_palette(custom_palette)"
   ]
  },
  {
   "cell_type": "markdown",
   "id": "171de46a-ce7e-4add-9652-88d1e7d15c8d",
   "metadata": {
    "tags": []
   },
   "source": [
    "## Exploratory Data Analysis"
   ]
  },
  {
   "cell_type": "code",
   "execution_count": null,
   "id": "5431fd16-3210-4e92-8028-fb2e5bfb6a8a",
   "metadata": {},
   "outputs": [],
   "source": [
    "df = pd.read_csv('../../data/raw/01_Melbourne_Residential.csv')\n",
    "df.head()"
   ]
  },
  {
   "cell_type": "code",
   "execution_count": null,
   "id": "db19911d-a6ae-43e0-bda1-435b25564619",
   "metadata": {},
   "outputs": [],
   "source": [
    "df.info()"
   ]
  },
  {
   "cell_type": "code",
   "execution_count": null,
   "id": "cdd463f0-2898-4d5d-86ba-0f4fddaf2cd9",
   "metadata": {},
   "outputs": [],
   "source": [
    "df.describe().T"
   ]
  },
  {
   "cell_type": "code",
   "execution_count": null,
   "id": "eb6e2f5e-d65a-4ee6-a678-fcc216ecbabe",
   "metadata": {},
   "outputs": [],
   "source": [
    "for col in df.select_dtypes(include=['object']).columns:\n",
    "    unique_vals = df[col].unique()\n",
    "    print(f\"Column: {col}\")\n",
    "    print(f\"Number of Unique Values: {df[col].nunique()}\")\n",
    "    print(f\"Unique Values: {unique_vals[:10]}\")\n",
    "    print(\"-\" * 50)"
   ]
  },
  {
   "cell_type": "code",
   "execution_count": null,
   "id": "ad37e3ff-c854-4922-85c4-e8f686365855",
   "metadata": {},
   "outputs": [],
   "source": [
    "df.isnull().sum().sort_values(ascending=False)"
   ]
  },
  {
   "cell_type": "code",
   "execution_count": null,
   "id": "513038ed-680c-4f99-aec7-2e0b140753cf",
   "metadata": {},
   "outputs": [],
   "source": [
    "msno.bar(df)\n",
    "msno.matrix(df)\n",
    "\n",
    "plt.show()"
   ]
  },
  {
   "cell_type": "code",
   "execution_count": null,
   "id": "44c6de3f-69b3-43f6-94d5-f9b6f584cdd0",
   "metadata": {},
   "outputs": [],
   "source": [
    "df[df.duplicated()]"
   ]
  },
  {
   "cell_type": "code",
   "execution_count": null,
   "id": "0b2b394f-5c83-4e19-95a5-537bb4fbad60",
   "metadata": {},
   "outputs": [],
   "source": [
    "Q1 = df['Price'].quantile(0.25)\n",
    "Q3 = df['Price'].quantile(0.75)\n",
    "IQR = Q3 - Q1\n",
    "\n",
    "# creating the outlier threshold\n",
    "lower_bound = Q1 - 1.5 * IQR\n",
    "upper_bound = Q3 + 1.5 * IQR\n",
    "\n",
    "outliers = df[(df['Price'] < lower_bound) | (df['Price'] > upper_bound)]\n",
    "num_outliers = len(outliers)\n",
    "total_listings = len(df)\n",
    "\n",
    "plt.figure(figsize=(10, 6))\n",
    "sns.histplot(df['Price'], bins=50, kde=True, color=\"#4C72B0\", alpha=0.6, label=\"Price Distribution\")\n",
    "sns.histplot(outliers['Price'], bins=40, color=\"red\", alpha=0.6, label=\"Outliers\") # plotting outliers\n",
    "\n",
    "plt.title(f\"Distribution of Property Prices\\nTotal Listings: {total_listings} | Outliers: {num_outliers}\", \n",
    "          fontsize=14, fontweight=\"bold\")\n",
    "plt.xlabel(\"Price (AUD)\", fontsize=12)\n",
    "plt.ylabel(\"Frequency\", fontsize=12)\n",
    "plt.legend()\n",
    "\n",
    "plt.show()"
   ]
  },
  {
   "cell_type": "code",
   "execution_count": null,
   "id": "cba81974-a86d-47ea-bb5b-88edac68a9a4",
   "metadata": {},
   "outputs": [],
   "source": [
    "plt.figure(figsize=(12, 8))\n",
    "corr_matrix = df.corr(numeric_only = True)\n",
    "sns.heatmap(corr_matrix, annot=True, cmap='coolwarm', fmt=\".2f\")\n",
    "plt.title(\"Correlation Matrix of Key Features\")\n",
    "plt.show()"
   ]
  },
  {
   "cell_type": "code",
   "execution_count": null,
   "id": "1aaa2188-8fa7-40cb-adce-df799c43c870",
   "metadata": {},
   "outputs": [],
   "source": [
    "df.corr(numeric_only = True)"
   ]
  },
  {
   "cell_type": "code",
   "execution_count": null,
   "id": "cec18b9d-10bf-4c25-a13a-d4d950d16574",
   "metadata": {},
   "outputs": [],
   "source": [
    "plt.figure(figsize=(12, 6))\n",
    "sns.boxplot(data=df, x=\"Method\", y=\"Price\", palette=\"viridis\")\n",
    "\n",
    "plt.title(\"Price Distribution by Auction Method\", fontsize=14, fontweight=\"bold\")\n",
    "plt.xlabel(\"Auction Method\", fontsize=12)\n",
    "plt.ylabel(\"Price (AUD)\", fontsize=12)\n",
    "plt.xticks(fontsize=10)\n",
    "plt.show()"
   ]
  },
  {
   "cell_type": "code",
   "execution_count": null,
   "id": "477fdf6a-bcbd-4fad-be82-223001ce0c82",
   "metadata": {},
   "outputs": [],
   "source": [
    "plt.figure(figsize=(15, 6))\n",
    "avg_price_by_seller = df.groupby(\"Seller\")[\"Price\"].mean().sort_values(ascending=False).head(10)\n",
    "\n",
    "sns.barplot(x=avg_price_by_seller.index, y=avg_price_by_seller.values, palette=\"viridis\")\n",
    "\n",
    "plt.title(\"Average Price by Top 10 Real Estate Agent\", fontsize=14, fontweight=\"bold\")\n",
    "plt.xlabel(\"Real Estate Agent\", fontsize=12)\n",
    "plt.ylabel(\"Average Price (AUD)\", fontsize=12)\n",
    "plt.xticks(rotation=45, ha=\"right\", fontsize=10)\n",
    "plt.show()"
   ]
  },
  {
   "cell_type": "code",
   "execution_count": null,
   "id": "a1032cba-5c58-4d6c-9ace-960b11a95902",
   "metadata": {},
   "outputs": [],
   "source": [
    "plt.figure(figsize=(15, 6))\n",
    "sns.boxplot(data=df, x=\"CouncilArea\", y=\"Price\", hue=\"CouncilArea\")\n",
    "plt.legend().remove()\n",
    "\n",
    "plt.xticks(rotation=45, ha=\"right\", fontsize=10)\n",
    "plt.title(\"Price Distribution by Council Area\", fontsize=14, fontweight=\"bold\")\n",
    "plt.xlabel(\"Council Area\", fontsize=12)\n",
    "plt.ylabel(\"Price (AUD)\", fontsize=12)\n",
    "plt.show()"
   ]
  },
  {
   "cell_type": "code",
   "execution_count": null,
   "id": "61ec793a-1767-4989-999a-b27c7addee93",
   "metadata": {},
   "outputs": [],
   "source": [
    "regions = sorted(df[\"Region\"].dropna().unique())  \n",
    "num_regions = len(regions)\n",
    "\n",
    "cols = 3\n",
    "rows = math.ceil(num_regions / cols)\n",
    "\n",
    "fig, axes = plt.subplots(rows, cols, figsize=(15, 5 * rows))  \n",
    "fig.suptitle(\"Price Distribution Across Regions\", fontsize=16, fontweight=\"bold\")\n",
    "\n",
    "axes = axes.flatten()\n",
    "\n",
    "for i, region in enumerate(regions):\n",
    "    sns.violinplot(data=df[df[\"Region\"] == region], y=\"Price\", ax=axes[i])\n",
    "    axes[i].set_title(region, fontsize=12, fontweight=\"bold\")\n",
    "    axes[i].set_xlabel(\"\")\n",
    "    axes[i].set_ylabel(\"Price (AUD)\", fontsize=10)\n",
    "    axes[i].tick_params(axis='x', which='both', bottom=False)\n",
    "\n",
    "for j in range(i + 1, len(axes)):\n",
    "    fig.delaxes(axes[j])\n",
    "\n",
    "plt.tight_layout(rect=[0, 0, 1, 0.96])  \n",
    "plt.show()"
   ]
  },
  {
   "cell_type": "code",
   "execution_count": null,
   "id": "6c221b8f-8d00-4af9-b9c4-a17930ea3215",
   "metadata": {},
   "outputs": [],
   "source": [
    "plt.figure(figsize=(8, 5))\n",
    "sns.boxplot(\n",
    "    x=pd.qcut(df['Propertycount'], q=4, labels=[\"Low\", \"Medium\", \"High\", \"Very High\"]),\n",
    "    y=df['Price'],\n",
    "    data=df,\n",
    "    palette=\"viridis\"\n",
    ")\n",
    "\n",
    "plt.title(\"Price Distribution by Propertycount Group\", fontsize=14, fontweight=\"bold\")\n",
    "plt.xlabel(\"Propertycount Group\", fontsize=12)\n",
    "plt.ylabel(\"Price (AUD)\", fontsize=12)\n",
    "plt.show()"
   ]
  },
  {
   "cell_type": "code",
   "execution_count": null,
   "id": "b83e00b9-b496-4b2d-a52a-b4d35cc2514e",
   "metadata": {},
   "outputs": [],
   "source": [
    "plt.figure(figsize=(10, 6))\n",
    "sns.scatterplot(data=df, x='Distance', y='Price')\n",
    "plt.title(\"Price vs. Distance to CBD\")\n",
    "plt.xlabel(\"Distance (km)\")\n",
    "plt.ylabel(\"Price (AUD)\")\n",
    "plt.show()"
   ]
  },
  {
   "cell_type": "code",
   "execution_count": null,
   "id": "8362d194-9077-4dfc-bbf9-a5856386eecf",
   "metadata": {},
   "outputs": [],
   "source": [
    "fig, axes = plt.subplots(1, 2, figsize=(15, 6))\n",
    "\n",
    "sns.countplot(x='Type', data=df, hue='Type', ax=axes[0])\n",
    "axes[0].set_title(\"Count of Properties by Type\")\n",
    "axes[0].set_xlabel(\"Property Type\")\n",
    "axes[0].set_ylabel(\"Count\")\n",
    "\n",
    "sns.violinplot(x='Type', y='Price', data=df, hue='Type', ax=axes[1])\n",
    "axes[1].set_title(\"Price Distribution by Property Type\")\n",
    "axes[1].set_xlabel(\"Property Type\")\n",
    "axes[1].set_ylabel(\"Price (AUD)\")\n",
    "\n",
    "plt.tight_layout()\n",
    "plt.show()"
   ]
  },
  {
   "cell_type": "code",
   "execution_count": null,
   "id": "e7de9e97-f8b5-4231-a829-b5b77b0b2d2a",
   "metadata": {},
   "outputs": [],
   "source": [
    "fig, axes = plt.subplots(1, 3, figsize=(18, 6))\n",
    "\n",
    "sns.violinplot(data=df, x=\"Bedroom2\", y=\"Price\", palette=\"viridis\", ax=axes[0])\n",
    "axes[0].set_title(\"Price vs. Number of Bedrooms\", fontsize=14, fontweight=\"bold\")\n",
    "axes[0].set_xlabel(\"Number of Bedrooms\", fontsize=12)\n",
    "axes[0].set_ylabel(\"Price (AUD)\", fontsize=12)\n",
    "\n",
    "sns.violinplot(data=df, x=\"Bathroom\", y=\"Price\", palette=\"viridis\", ax=axes[1])\n",
    "axes[1].set_title(\"Price vs. Number of Bathrooms\", fontsize=14, fontweight=\"bold\")\n",
    "axes[1].set_xlabel(\"Number of Bathrooms\", fontsize=12)\n",
    "axes[1].set_ylabel(\"Price (AUD)\", fontsize=12)\n",
    "\n",
    "sns.violinplot(data=df, x=\"Car\", y=\"Price\", palette=\"viridis\", ax=axes[2])\n",
    "axes[2].set_title(\"Price vs. Number of Car Spots\", fontsize=14, fontweight=\"bold\")\n",
    "axes[2].set_xlabel(\"Number of Car Spots\", fontsize=12)\n",
    "axes[2].set_ylabel(\"Price (AUD)\", fontsize=12)\n",
    "\n",
    "plt.tight_layout()\n",
    "plt.show()"
   ]
  },
  {
   "cell_type": "code",
   "execution_count": null,
   "id": "ef6a39dc-4f7e-4996-a4ee-4363db829a66",
   "metadata": {},
   "outputs": [],
   "source": [
    "fig, axes = plt.subplots(1, 2, figsize=(15, 6))\n",
    "\n",
    "sns.scatterplot(data=df, x=\"BuildingArea\", y=\"Price\", alpha=0.5, color=\"#4C72B0\", ax=axes[0])\n",
    "axes[0].set_title(\"Price vs. Building Area\", fontsize=14, fontweight=\"bold\")\n",
    "axes[0].set_xlabel(\"Building Area (sqm)\", fontsize=12)\n",
    "axes[0].set_ylabel(\"Price (AUD)\", fontsize=12)\n",
    "\n",
    "sns.scatterplot(data=df, x=\"Landsize\", y=\"Price\", alpha=0.5, color=\"#4C72B0\", ax=axes[1])\n",
    "axes[1].set_title(\"Price vs. Land Size\", fontsize=14, fontweight=\"bold\")\n",
    "axes[1].set_xlabel(\"Land Size\", fontsize=12)\n",
    "axes[1].set_ylabel(\"Price (AUD)\", fontsize=12)\n",
    "\n",
    "plt.tight_layout()\n",
    "plt.show()"
   ]
  },
  {
   "cell_type": "code",
   "execution_count": null,
   "id": "aa892ea0-b73e-486c-9419-8ad2b319a244",
   "metadata": {},
   "outputs": [],
   "source": [
    "df['Date'] = pd.to_datetime(df['Date'], format='%d/%m/%Y')\n",
    "\n",
    "avg_price_yearly = df.groupby(df['Date'].dt.year)['Price'].mean().reset_index()\n",
    "avg_price_built = df.groupby('YearBuilt')['Price'].mean().reset_index()\n",
    "\n",
    "fig, axes = plt.subplots(1, 2, figsize=(15, 5))  \n",
    "fig.suptitle(\"Price Trends: Sale Year vs. Year Built\", fontsize=16, fontweight=\"bold\")\n",
    "\n",
    "sns.lineplot(data=avg_price_yearly, x='Date', y='Price', ax=axes[0], color=\"#4C72B0\")\n",
    "axes[0].set_title(\"Average Price Over Sale Years\", fontsize=12, fontweight=\"bold\")\n",
    "axes[0].set_xlabel(\"Year Sold\", fontsize=10)\n",
    "axes[0].set_ylabel(\"Average Price (AUD)\", fontsize=10)\n",
    "\n",
    "sns.lineplot(data=avg_price_built, x='YearBuilt', y='Price', ax=axes[1], color=\"#DD8452\")\n",
    "axes[1].set_title(\"Average Price by Year Built\", fontsize=12, fontweight=\"bold\")\n",
    "axes[1].set_xlabel(\"Year Built\", fontsize=10)\n",
    "axes[1].set_ylabel(\"Average Price (AUD)\", fontsize=10)\n",
    "\n",
    "plt.tight_layout(rect=[0, 0, 1, 0.95])\n",
    "plt.show()"
   ]
  },
  {
   "cell_type": "code",
   "execution_count": null,
   "id": "766b4a61-9bd7-4428-b3ea-7afc4766d1ed",
   "metadata": {},
   "outputs": [],
   "source": [
    "plt.figure(figsize=(10, 8))\n",
    "sns.scatterplot(data=df, x='Longtitude', y='Lattitude', hue='Price', palette='cool', alpha=0.6)\n",
    "plt.title(\"Geographical Distribution of Properties\")\n",
    "plt.xlabel(\"Longitude\")\n",
    "plt.ylabel(\"Latitude\")\n",
    "plt.legend(title=\"Price\", bbox_to_anchor=(1, 1))\n",
    "plt.show()"
   ]
  },
  {
   "cell_type": "markdown",
   "id": "a872684e-7b3a-4482-94a2-d70cadf08ed2",
   "metadata": {
    "tags": []
   },
   "source": [
    "## Data Preparation"
   ]
  },
  {
   "cell_type": "code",
   "execution_count": null,
   "id": "ea381a80-fc73-4161-907a-fbd64f9d22a6",
   "metadata": {},
   "outputs": [],
   "source": [
    "# Numerical Columns\n",
    "numerical_columns = [\"Distance\", \"Bedroom2\", \"Bathroom\", \n",
    "                     \"Car\", \"Landsize\", \"YearBuilt\", \n",
    "                     \"Lattitude\", \"Longtitude\"]\n",
    "\n",
    "ordinal_columns = {\n",
    "    'Rooms': sorted(df['Rooms'].unique()),  # 'Rooms' is numeric, so sorted naturally\n",
    "    'Type': ['t', 'h', 'u'],  # Townhouse < House < Unit (example order)\n",
    "    'Method': ['PI', 'S', 'SP', 'VB', 'SA', 'SS', 'W', 'NB', 'PN', 'SN', 'N/A'],  # Auction method orders\n",
    "}"
   ]
  },
  {
   "cell_type": "code",
   "execution_count": null,
   "id": "fe6a9a3a-e2eb-4038-abdf-4be2623a947f",
   "metadata": {
    "scrolled": true,
    "tags": []
   },
   "outputs": [],
   "source": [
    "ignore_feat = [\"Propertycount\", \"Postcode\", \"BuildingArea\", \"Address\"]\n",
    "\n",
    "reg1 = setup(\n",
    "    data=df, \n",
    "    target=\"Price\",\n",
    "    ignore_features=ignore_feat,\n",
    "    imputation_type=\"iterative\",\n",
    "    numeric_imputation=\"knn\", \n",
    "    categorical_imputation=\"mode\",\n",
    "    ordinal_features=ordinal_columns,\n",
    "    numeric_features=numerical_columns,\n",
    "    categorical_features=[\"Suburb\", \"Type\", \"Method\", \"Seller\", \"CouncilArea\", \"Region\"], \n",
    "    create_date_columns=[\"day\", \"month\", \"year\"],\n",
    "    polynomial_features=True,\n",
    "    polynomial_degree=2,\n",
    "    remove_multicollinearity=True, # default threshold = 0.9\n",
    "    multicollinearity_threshold=0.55, # changing 0.9 to 0.55\n",
    "    normalize=True,\n",
    "    session_id=123,\n",
    "    log_experiment=True,\n",
    "    experiment_name='house_pricing',\n",
    "    fold=10, # most common is 10 folds\n",
    "    feature_selection=True, \n",
    "    n_features_to_select=0.8\n",
    ")"
   ]
  },
  {
   "cell_type": "code",
   "execution_count": null,
   "id": "85cbece6-cb24-49a8-8567-03e9cd8d5c22",
   "metadata": {},
   "outputs": [],
   "source": [
    "reg1.dataset_transformed"
   ]
  },
  {
   "cell_type": "code",
   "execution_count": null,
   "id": "b34d7b4a-f7f1-4893-956a-fc6885b313d6",
   "metadata": {},
   "outputs": [],
   "source": [
    "print(f'Categorical features: {reg1._fxs[\"Categorical\"]}')\n",
    "print(f'Ordinal features: {reg1._fxs[\"Ordinal\"]}')\n",
    "print(f'Numeric features: {reg1._fxs[\"Numeric\"]}')"
   ]
  },
  {
   "cell_type": "markdown",
   "id": "775c1978-760f-4c8b-b63e-b0c9b33cdc40",
   "metadata": {},
   "source": [
    "## Modelling"
   ]
  },
  {
   "cell_type": "code",
   "execution_count": null,
   "id": "c8ab4419-a713-47dd-8e9a-3a4e95c92815",
   "metadata": {},
   "outputs": [],
   "source": [
    "best = reg1.compare_models()"
   ]
  },
  {
   "cell_type": "code",
   "execution_count": null,
   "id": "f48e0233-8bfe-4b48-a8e4-a739b84cab05",
   "metadata": {},
   "outputs": [],
   "source": [
    "best = create_model('et')"
   ]
  },
  {
   "cell_type": "markdown",
   "id": "72d1ffc8-6dde-4a1a-b8ab-96c3e1f26463",
   "metadata": {},
   "source": [
    "## Hyperparameter Tuning"
   ]
  },
  {
   "cell_type": "code",
   "execution_count": null,
   "id": "55bec521-60fc-4e14-83b7-017b5cd33662",
   "metadata": {},
   "outputs": [],
   "source": [
    "best.get_params()"
   ]
  },
  {
   "cell_type": "code",
   "execution_count": null,
   "id": "0fb40982-658f-4dc4-b3f7-9e94a1dca9d9",
   "metadata": {},
   "outputs": [],
   "source": [
    "tuned_model = tune_model(\n",
    "    best, \n",
    "    n_iter=50, \n",
    "    return_tuner=True, \n",
    "    search_library='optuna', \n",
    "    choose_better=True, \n",
    "    optimize='RMSLE'\n",
    ") "
   ]
  },
  {
   "cell_type": "markdown",
   "id": "3ff21af6-bb6a-4d31-ad5e-4e54f790e390",
   "metadata": {},
   "source": [
    "## Model Evaluation"
   ]
  },
  {
   "cell_type": "code",
   "execution_count": null,
   "id": "8b589c60-e9a9-4a9c-8fb3-d2e99817583c",
   "metadata": {},
   "outputs": [],
   "source": [
    "predict_model(best)"
   ]
  },
  {
   "cell_type": "code",
   "execution_count": null,
   "id": "093f79f5-1b28-4015-93b7-0c35b2b50ec3",
   "metadata": {},
   "outputs": [],
   "source": [
    "evaluate_model(best)"
   ]
  },
  {
   "cell_type": "code",
   "execution_count": null,
   "id": "0df30f74-d0ec-4320-a036-1a5ac8219a37",
   "metadata": {},
   "outputs": [],
   "source": [
    "plot_model(best, plot='residuals', plot_kwargs={'observed': True, 'color': 'blue'})"
   ]
  },
  {
   "cell_type": "code",
   "execution_count": null,
   "id": "f461b53e-adb7-4299-b015-c652685b2e64",
   "metadata": {},
   "outputs": [],
   "source": [
    "plot_model(best, plot='error', plot_kwargs={'alpha': 0.5, 'title': 'Actual vs Predicted'})"
   ]
  },
  {
   "cell_type": "code",
   "execution_count": null,
   "id": "69dead54-ba65-46d9-989f-dff6fe4c8053",
   "metadata": {},
   "outputs": [],
   "source": [
    "plot_model(best, plot='cooks', plot_kwargs={'draw_threshold': True, 'linefmt': 'r--'})"
   ]
  },
  {
   "cell_type": "code",
   "execution_count": null,
   "id": "60328d99-3d58-4044-98bc-d00dc2828350",
   "metadata": {},
   "outputs": [],
   "source": [
    "plot_model(best, plot='feature', plot_kwargs={'top_n': 15, 'figsize': (10,6)})"
   ]
  },
  {
   "cell_type": "code",
   "execution_count": null,
   "id": "1fe33a88-6b77-4b79-94de-a547ed674634",
   "metadata": {},
   "outputs": [],
   "source": [
    "plot_model(best, plot='learning', plot_kwargs={'train_sizes': np.linspace(0.1, 1.0, 10)})"
   ]
  },
  {
   "cell_type": "code",
   "execution_count": null,
   "id": "b7cb159f-c4f2-44ea-a123-200b45cb7463",
   "metadata": {},
   "outputs": [],
   "source": [
    "# to view more charts the below can be used\n",
    "evaluate_model(best)"
   ]
  },
  {
   "cell_type": "code",
   "execution_count": null,
   "id": "0cf089e3-b1bb-41b8-9f12-5c6beb5a3692",
   "metadata": {},
   "outputs": [],
   "source": [
    "# ai explainability is also an important component\n",
    "# using the below plot, we can understand how the model is arriving at its prediction\n",
    "interpret_model(xgboost)"
   ]
  },
  {
   "cell_type": "markdown",
   "id": "cb76a90d-63a7-4b03-a339-0aff2fcc6574",
   "metadata": {},
   "source": [
    "## Saving Model"
   ]
  },
  {
   "cell_type": "code",
   "execution_count": null,
   "id": "3927a608-54b2-436c-9757-80b626c12c41",
   "metadata": {},
   "outputs": [],
   "source": [
    "final_model = finalize_model(best)\n",
    "save_model(final_best, 'house_pricing_pipeline')"
   ]
  },
  {
   "cell_type": "code",
   "execution_count": null,
   "id": "634550ba-5395-4ccb-b123-255c57036f38",
   "metadata": {},
   "outputs": [],
   "source": [
    "# to confirm if the model is loaded correctly\n",
    "load_model_pipline = load_model('medical_pipeline')\n",
    "load_model_pipline"
   ]
  }
 ],
 "metadata": {
  "kernelspec": {
   "display_name": "Python (mlops)",
   "language": "python",
   "name": "mlops"
  },
  "language_info": {
   "codemirror_mode": {
    "name": "ipython",
    "version": 3
   },
   "file_extension": ".py",
   "mimetype": "text/x-python",
   "name": "python",
   "nbconvert_exporter": "python",
   "pygments_lexer": "ipython3",
   "version": "3.10.15"
  }
 },
 "nbformat": 4,
 "nbformat_minor": 5
}
